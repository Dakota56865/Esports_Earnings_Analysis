{
 "cells": [
  {
   "cell_type": "markdown",
   "id": "058c67c4-27e2-4e81-95a2-22f431e74942",
   "metadata": {},
   "source": [
    "## Importing Libraries"
   ]
  },
  {
   "cell_type": "code",
   "execution_count": 5,
   "id": "a4a7e4ab-5ef0-4147-8916-01fed61d64b1",
   "metadata": {},
   "outputs": [],
   "source": [
    "# Import necessary libraries\n",
    "import os\n",
    "import pandas as pd\n",
    "import numpy as np\n",
    "import matplotlib.pyplot as plt\n",
    "import seaborn as sns\n",
    "from sklearn.cluster import KMeans\n",
    "from sklearn.preprocessing import StandardScaler  # Make sure this is included\n",
    "from sklearn.metrics import silhouette_score\n"
   ]
  },
  {
   "cell_type": "markdown",
   "id": "b321e168-f2fa-4b2c-b89b-8363b916a46e",
   "metadata": {},
   "source": [
    "## Importing Data"
   ]
  },
  {
   "cell_type": "code",
   "execution_count": 6,
   "id": "ad60c4a4-f910-4e6a-b6d4-686ba5850663",
   "metadata": {},
   "outputs": [],
   "source": [
    "path = r'C:\\Users\\smerg\\esport_earning_2018-2023'\n",
    "\n",
    "merged = pd.read_csv(os.path.join(path, '02 Data', 'Prepared Data', 'EsportsData.cvs'))\n",
    "merged_cleaned = pd.read_csv(os.path.join(path, '02 Data', 'Prepared Data', 'EsportsDataCleaned.cvs'))"
   ]
  },
  {
   "cell_type": "code",
   "execution_count": 7,
   "id": "7cd94db4-4a3c-48b7-9a8e-a2c7cc79b8fb",
   "metadata": {},
   "outputs": [
    {
     "name": "stdout",
     "output_type": "stream",
     "text": [
      "   Unnamed: 0.1  Unnamed: 0  TotalEarnings  OfflineEarnings  PercentOffline  \\\n",
      "1          1988        1988       54799.77         54799.77        1.000000   \n",
      "2          1989        1989       54799.77         54799.77        1.000000   \n",
      "4          3045        3045    34616725.38      18840032.08        0.544247   \n",
      "5          3046        3046    34616725.38      18840032.08        0.544247   \n",
      "6          3047        3047    34616725.38      18840032.08        0.544247   \n",
      "\n",
      "   TotalPlayers  TotalTournaments  Earnings  Players  Tournaments  \\\n",
      "1            66                 4    629.77      0.0          1.0   \n",
      "2            66                 4   4170.00     15.0          1.0   \n",
      "4          4047               835   2560.00     24.0          5.0   \n",
      "5          4047               835   3247.45     61.0         11.0   \n",
      "6          4047               835   9140.12     62.0         13.0   \n",
      "\n",
      "   EarningsGrowth  \n",
      "1             0.0  \n",
      "2             0.0  \n",
      "4             0.0  \n",
      "5             0.0  \n",
      "6             0.0  \n"
     ]
    }
   ],
   "source": [
    "# Load your data (replace with your actual data source)\n",
    "data = merged_cleaned  # Assuming this is the dataset you are working with\n",
    "\n",
    "# Drop any non-numerical columns (e.g., 'Game', 'Genre', 'Country')\n",
    "data_numerical = data.select_dtypes(include=['float64', 'int64'])\n",
    "\n",
    "# Check for missing values and handle them if needed\n",
    "data_numerical.dropna(inplace=True)\n",
    "\n",
    "# Inspect the cleaned numerical data\n",
    "print(data_numerical.head())\n"
   ]
  },
  {
   "cell_type": "code",
   "execution_count": 8,
   "id": "321955a5-753c-4cec-846f-4fa68aa868b9",
   "metadata": {},
   "outputs": [
    {
     "name": "stdout",
     "output_type": "stream",
     "text": [
      "   Unnamed: 0.1  Unnamed: 0  TotalEarnings  OfflineEarnings  PercentOffline  \\\n",
      "0     -1.594579   -1.594579      -1.235301        -1.028397        1.419758   \n",
      "1     -1.594126   -1.594126      -1.235301        -1.028397        1.419758   \n",
      "2     -1.115944   -1.115944      -0.948298        -0.861167       -0.798237   \n",
      "3     -1.115491   -1.115491      -0.948298        -0.861167       -0.798237   \n",
      "4     -1.115038   -1.115038      -0.948298        -0.861167       -0.798237   \n",
      "\n",
      "   TotalPlayers  TotalTournaments  Earnings   Players  Tournaments  \\\n",
      "0     -2.399638         -2.441327 -0.336108 -1.159555    -1.222526   \n",
      "1     -2.399638         -2.441327 -0.335136 -1.083799    -1.222526   \n",
      "2     -0.775250         -1.336315 -0.335578 -1.038345    -0.880330   \n",
      "3     -0.775250         -1.336315 -0.335389 -0.851479    -0.367037   \n",
      "4     -0.775250         -1.336315 -0.333771 -0.846428    -0.195940   \n",
      "\n",
      "   EarningsGrowth  \n",
      "0             0.0  \n",
      "1             0.0  \n",
      "2             0.0  \n",
      "3             0.0  \n",
      "4             0.0  \n"
     ]
    }
   ],
   "source": [
    "# Standardize the data\n",
    "scaler = StandardScaler()\n",
    "data_scaled = scaler.fit_transform(data_numerical)\n",
    "\n",
    "# Convert back to a DataFrame\n",
    "data_scaled_df = pd.DataFrame(data_scaled, columns=data_numerical.columns)\n",
    "\n",
    "# Check the standardized data\n",
    "print(data_scaled_df.head())\n"
   ]
  },
  {
   "cell_type": "code",
   "execution_count": 9,
   "id": "ab74c2f0-e126-44ec-a949-02d29192c2f7",
   "metadata": {},
   "outputs": [
    {
     "name": "stderr",
     "output_type": "stream",
     "text": [
      "C:\\Users\\smerg\\anaconda3.1\\Lib\\site-packages\\sklearn\\cluster\\_kmeans.py:1446: UserWarning: KMeans is known to have a memory leak on Windows with MKL, when there are less chunks than available threads. You can avoid it by setting the environment variable OMP_NUM_THREADS=3.\n",
      "  warnings.warn(\n",
      "C:\\Users\\smerg\\anaconda3.1\\Lib\\site-packages\\sklearn\\cluster\\_kmeans.py:1446: UserWarning: KMeans is known to have a memory leak on Windows with MKL, when there are less chunks than available threads. You can avoid it by setting the environment variable OMP_NUM_THREADS=3.\n",
      "  warnings.warn(\n",
      "C:\\Users\\smerg\\anaconda3.1\\Lib\\site-packages\\sklearn\\cluster\\_kmeans.py:1446: UserWarning: KMeans is known to have a memory leak on Windows with MKL, when there are less chunks than available threads. You can avoid it by setting the environment variable OMP_NUM_THREADS=3.\n",
      "  warnings.warn(\n",
      "C:\\Users\\smerg\\anaconda3.1\\Lib\\site-packages\\sklearn\\cluster\\_kmeans.py:1446: UserWarning: KMeans is known to have a memory leak on Windows with MKL, when there are less chunks than available threads. You can avoid it by setting the environment variable OMP_NUM_THREADS=3.\n",
      "  warnings.warn(\n",
      "C:\\Users\\smerg\\anaconda3.1\\Lib\\site-packages\\sklearn\\cluster\\_kmeans.py:1446: UserWarning: KMeans is known to have a memory leak on Windows with MKL, when there are less chunks than available threads. You can avoid it by setting the environment variable OMP_NUM_THREADS=3.\n",
      "  warnings.warn(\n",
      "C:\\Users\\smerg\\anaconda3.1\\Lib\\site-packages\\sklearn\\cluster\\_kmeans.py:1446: UserWarning: KMeans is known to have a memory leak on Windows with MKL, when there are less chunks than available threads. You can avoid it by setting the environment variable OMP_NUM_THREADS=3.\n",
      "  warnings.warn(\n",
      "C:\\Users\\smerg\\anaconda3.1\\Lib\\site-packages\\sklearn\\cluster\\_kmeans.py:1446: UserWarning: KMeans is known to have a memory leak on Windows with MKL, when there are less chunks than available threads. You can avoid it by setting the environment variable OMP_NUM_THREADS=3.\n",
      "  warnings.warn(\n",
      "C:\\Users\\smerg\\anaconda3.1\\Lib\\site-packages\\sklearn\\cluster\\_kmeans.py:1446: UserWarning: KMeans is known to have a memory leak on Windows with MKL, when there are less chunks than available threads. You can avoid it by setting the environment variable OMP_NUM_THREADS=3.\n",
      "  warnings.warn(\n",
      "C:\\Users\\smerg\\anaconda3.1\\Lib\\site-packages\\sklearn\\cluster\\_kmeans.py:1446: UserWarning: KMeans is known to have a memory leak on Windows with MKL, when there are less chunks than available threads. You can avoid it by setting the environment variable OMP_NUM_THREADS=3.\n",
      "  warnings.warn(\n",
      "C:\\Users\\smerg\\anaconda3.1\\Lib\\site-packages\\sklearn\\cluster\\_kmeans.py:1446: UserWarning: KMeans is known to have a memory leak on Windows with MKL, when there are less chunks than available threads. You can avoid it by setting the environment variable OMP_NUM_THREADS=3.\n",
      "  warnings.warn(\n"
     ]
    },
    {
     "data": {
      "image/png": "[encoded data removed]",
      "text/plain": [
       "<Figure size 800x600 with 1 Axes>"
      ]
     },
     "metadata": {},
     "output_type": "display_data"
    }
   ],
   "source": [
    "# Calculate inertia for a range of clusters\n",
    "inertia = []\n",
    "K_range = range(1, 11)\n",
    "\n",
    "for k in K_range:\n",
    "    kmeans = KMeans(n_clusters=k, random_state=42)\n",
    "    kmeans.fit(data_scaled_df)\n",
    "    inertia.append(kmeans.inertia_)\n",
    "\n",
    "# Plot the elbow curve\n",
    "plt.figure(figsize=(8, 6))\n",
    "plt.plot(K_range, inertia, marker='o')\n",
    "plt.title('Elbow Method for Optimal Number of Clusters')\n",
    "plt.xlabel('Number of Clusters (k)')\n",
    "plt.ylabel('Inertia')\n",
    "plt.grid(True)\n",
    "plt.show()\n"
   ]
  },
  {
   "cell_type": "markdown",
   "id": "5b78a866-5583-4445-b934-34cb1ae94f9a",
   "metadata": {},
   "source": [
    "Explanation: Based on the elbow plot, I chose k = X because it represents the point where adding more clusters provides little improvement in reducing the inertia. This suggests that the data is optimally grouped into X clusters."
   ]
  },
  {
   "cell_type": "code",
   "execution_count": 11,
   "id": "65eea1e9-40e1-466a-a324-b5c4112e00db",
   "metadata": {},
   "outputs": [
    {
     "name": "stdout",
     "output_type": "stream",
     "text": [
      "   Unnamed: 0.1  Unnamed: 0          Game ReleaseDate                 Genre  \\\n",
      "0          1987        1987  Call of Duty  2003-01-01  First-Person Shooter   \n",
      "1          1988        1988  Call of Duty  2003-01-01  First-Person Shooter   \n",
      "2          1989        1989  Call of Duty  2003-01-01  First-Person Shooter   \n",
      "3          3044        3044     Overwatch  2016-01-01  First-Person Shooter   \n",
      "4          3045        3045     Overwatch  2016-01-01  First-Person Shooter   \n",
      "\n",
      "   TotalEarnings  OfflineEarnings  PercentOffline  TotalPlayers  \\\n",
      "0       54799.77         54799.77        1.000000            66   \n",
      "1       54799.77         54799.77        1.000000            66   \n",
      "2       54799.77         54799.77        1.000000            66   \n",
      "3    34616725.38      18840032.08        0.544247          4047   \n",
      "4    34616725.38      18840032.08        0.544247          4047   \n",
      "\n",
      "   TotalTournaments Country        Date  Earnings  Players  Tournaments  \\\n",
      "0                 4     USA  2004-08-01  50000.00     51.0          1.0   \n",
      "1                 4     USA  2005-08-01    629.77      0.0          1.0   \n",
      "2                 4     USA  2006-03-01   4170.00     15.0          1.0   \n",
      "3               835     USA  2015-11-01    760.00     37.0          5.0   \n",
      "4               835     USA  2015-12-01   2560.00     24.0          5.0   \n",
      "\n",
      "   EarningsGrowth  Cluster  \n",
      "0             NaN      2.0  \n",
      "1             0.0      2.0  \n",
      "2             0.0      2.0  \n",
      "3             NaN      2.0  \n",
      "4             0.0      2.0  \n"
     ]
    },
    {
     "name": "stderr",
     "output_type": "stream",
     "text": [
      "C:\\Users\\smerg\\anaconda3.1\\Lib\\site-packages\\sklearn\\cluster\\_kmeans.py:1446: UserWarning: KMeans is known to have a memory leak on Windows with MKL, when there are less chunks than available threads. You can avoid it by setting the environment variable OMP_NUM_THREADS=3.\n",
      "  warnings.warn(\n"
     ]
    }
   ],
   "source": [
    "# Set the chosen number of clusters based on the elbow plot\n",
    "X = 3  # Replace this value with the optimal number of clusters you determined\n",
    "\n",
    "# Run K-Means with the chosen number of clusters\n",
    "kmeans = KMeans(n_clusters=X, random_state=42)\n",
    "data_scaled_df['Cluster'] = kmeans.fit_predict(data_scaled_df)\n",
    "\n",
    "# Add the cluster labels back to the original data\n",
    "data['Cluster'] = data_scaled_df['Cluster']\n",
    "\n",
    "# View the data with clusters\n",
    "print(data.head())\n"
   ]
  },
  {
   "cell_type": "code",
   "execution_count": 12,
   "id": "224f8f69-37c6-47af-bf88-34788cb58d0e",
   "metadata": {},
   "outputs": [
    {
     "name": "stdout",
     "output_type": "stream",
     "text": [
      "   Unnamed: 0.1  Unnamed: 0          Game ReleaseDate                 Genre  \\\n",
      "0          1987        1987  Call of Duty  2003-01-01  First-Person Shooter   \n",
      "1          1988        1988  Call of Duty  2003-01-01  First-Person Shooter   \n",
      "2          1989        1989  Call of Duty  2003-01-01  First-Person Shooter   \n",
      "3          3044        3044     Overwatch  2016-01-01  First-Person Shooter   \n",
      "4          3045        3045     Overwatch  2016-01-01  First-Person Shooter   \n",
      "\n",
      "   TotalEarnings  OfflineEarnings  PercentOffline  TotalPlayers  \\\n",
      "0       54799.77         54799.77        1.000000            66   \n",
      "1       54799.77         54799.77        1.000000            66   \n",
      "2       54799.77         54799.77        1.000000            66   \n",
      "3    34616725.38      18840032.08        0.544247          4047   \n",
      "4    34616725.38      18840032.08        0.544247          4047   \n",
      "\n",
      "   TotalTournaments Country        Date  Earnings  Players  Tournaments  \\\n",
      "0                 4     USA  2004-08-01  50000.00     51.0          1.0   \n",
      "1                 4     USA  2005-08-01    629.77      0.0          1.0   \n",
      "2                 4     USA  2006-03-01   4170.00     15.0          1.0   \n",
      "3               835     USA  2015-11-01    760.00     37.0          5.0   \n",
      "4               835     USA  2015-12-01   2560.00     24.0          5.0   \n",
      "\n",
      "   EarningsGrowth  Cluster  \n",
      "0             NaN      2.0  \n",
      "1             0.0      2.0  \n",
      "2             0.0      2.0  \n",
      "3             NaN      2.0  \n",
      "4             0.0      2.0  \n"
     ]
    },
    {
     "name": "stderr",
     "output_type": "stream",
     "text": [
      "C:\\Users\\smerg\\anaconda3.1\\Lib\\site-packages\\sklearn\\cluster\\_kmeans.py:1446: UserWarning: KMeans is known to have a memory leak on Windows with MKL, when there are less chunks than available threads. You can avoid it by setting the environment variable OMP_NUM_THREADS=3.\n",
      "  warnings.warn(\n"
     ]
    }
   ],
   "source": [
    "# Run K-Means with the chosen number of clusters (replace X with the chosen value)\n",
    "kmeans = KMeans(n_clusters=X, random_state=42)\n",
    "data_scaled_df['Cluster'] = kmeans.fit_predict(data_scaled_df)\n",
    "\n",
    "# Add the cluster labels back to the original data\n",
    "data['Cluster'] = data_scaled_df['Cluster']\n",
    "\n",
    "# View the data with clusters\n",
    "print(data.head())\n"
   ]
  },
  {
   "cell_type": "code",
   "execution_count": 13,
   "id": "ebb53392-9fda-4ba4-8214-4fb823e783a0",
   "metadata": {},
   "outputs": [
    {
     "data": {
      "image/png": "[encoded data removed]",
      "text/plain": [
       "<Figure size 800x600 with 1 Axes>"
      ]
     },
     "metadata": {},
     "output_type": "display_data"
    }
   ],
   "source": [
    "# Example scatterplot for two variables (e.g., Total Players vs Total Earnings)\n",
    "plt.figure(figsize=(8, 6))\n",
    "sns.scatterplot(x='TotalPlayers', y='TotalEarnings', hue='Cluster', palette='Set1', data=data)\n",
    "plt.title('Clusters of Total Players vs Total Earnings')\n",
    "plt.xlabel('Total Players')\n",
    "plt.ylabel('Total Earnings')\n",
    "plt.legend()\n",
    "plt.show()\n",
    "\n",
    "# You can create more scatter plots by choosing different variables for the axes.\n"
   ]
  },
  {
   "cell_type": "markdown",
   "id": "ac450fa5-1aef-4ca5-a203-d9d7e47fd782",
   "metadata": {},
   "source": [
    "Cluster Analysis: The clusters represent distinct groupings of esports data. For example, we see that clusters are grouped based on the number of players and earnings, suggesting that different games have varying levels of profitability and engagement. Some clusters might represent games with a large player base and high earnings, while others might show a smaller player base with moderate earnings.\n"
   ]
  },
  {
   "cell_type": "code",
   "execution_count": 15,
   "id": "0dc0cb61-0e4c-48c3-b62e-2a76159ab27c",
   "metadata": {},
   "outputs": [
    {
     "name": "stdout",
     "output_type": "stream",
     "text": [
      "         Unnamed: 0.1   Unnamed: 0  TotalEarnings  OfflineEarnings  \\\n",
      "Cluster                                                              \n",
      "0.0       4286.076923  4286.076923   2.170956e+08     1.909491e+08   \n",
      "1.0       8588.327586  8588.327586   8.129581e+07     3.079387e+07   \n",
      "2.0       3038.961538  3038.961538   3.328742e+07     1.811752e+07   \n",
      "\n",
      "         PercentOffline  TotalPlayers  TotalTournaments      Earnings  \\\n",
      "Cluster                                                                 \n",
      "0.0            0.872390   7029.585284       2370.083612  1.470742e+06   \n",
      "1.0            0.506159   4903.965517       1382.425287  1.110773e+06   \n",
      "2.0            0.561775   3893.884615        803.038462  4.443108e+05   \n",
      "\n",
      "            Players  Tournaments  EarningsGrowth  \n",
      "Cluster                                           \n",
      "0.0      236.602007    15.719064             0.0  \n",
      "1.0      220.183908    15.879310             0.0  \n",
      "2.0      195.692308    10.717949             0.0  \n"
     ]
    }
   ],
   "source": [
    "# Exclude non-numeric columns (e.g., 'Game', 'Country', 'Genre') before calculating the mean\n",
    "numeric_columns = data.select_dtypes(include=['float64', 'int64'])\n",
    "\n",
    "# Add the 'Cluster' column to the numeric columns for grouping\n",
    "numeric_columns['Cluster'] = data['Cluster']\n",
    "\n",
    "# Calculate the mean for each cluster using only numeric columns\n",
    "cluster_stats = numeric_columns.groupby('Cluster').mean()\n",
    "print(cluster_stats)\n"
   ]
  },
  {
   "cell_type": "code",
   "execution_count": 17,
   "id": "e616067e-7d43-45b0-8818-794d4a634c21",
   "metadata": {},
   "outputs": [
    {
     "name": "stdout",
     "output_type": "stream",
     "text": [
      "        Unnamed: 0.1                                                    \\\n",
      "               count         mean         std     min      25%     50%   \n",
      "Cluster                                                                  \n",
      "0.0            299.0  4286.076923  188.011131  3119.0  4134.50  4373.0   \n",
      "1.0            174.0  8588.327586  645.597149  4523.0  8548.25  8591.5   \n",
      "2.0             78.0  3038.961538  212.629025  1987.0  3060.25  3079.5   \n",
      "\n",
      "                         Unnamed: 0               ... Tournaments        \\\n",
      "             75%     max      count         mean  ...         75%   max   \n",
      "Cluster                                           ...                     \n",
      "0.0      4447.50  4522.0      299.0  4286.076923  ...       21.00  49.0   \n",
      "1.0      8882.75  8926.0      174.0  8588.327586  ...       21.00  97.0   \n",
      "2.0      3098.75  3118.0       78.0  3038.961538  ...       13.75  41.0   \n",
      "\n",
      "        EarningsGrowth                                     \n",
      "                 count mean  std  min  25%  50%  75%  max  \n",
      "Cluster                                                    \n",
      "0.0              297.0  0.0  0.0  0.0  0.0  0.0  0.0  0.0  \n",
      "1.0              172.0  0.0  0.0  0.0  0.0  0.0  0.0  0.0  \n",
      "2.0               76.0  0.0  0.0  0.0  0.0  0.0  0.0  0.0  \n",
      "\n",
      "[3 rows x 88 columns]\n"
     ]
    }
   ],
   "source": [
    "# Calculate descriptive statistics for each cluster\n",
    "cluster_descriptions = numeric_columns.groupby('Cluster').describe()\n",
    "print(cluster_descriptions)\n"
   ]
  },
  {
   "cell_type": "markdown",
   "id": "bc3ec57f-172e-4f7f-bfc1-6d802f819437",
   "metadata": {},
   "source": [
    "Proposed Future Uses:\n",
    "\n",
    "These clusters could help identify different types of esports games, enabling targeted marketing strategies for games based on their profitability and player base.\n",
    "Clusters can also help inform investment decisions, prioritizing high-earning games or supporting smaller games with potential for growth.\n",
    "In future steps, additional clustering with game genres or regions could provide more nuanced insights, and classification models could predict a game’s cluster based on its attributes."
   ]
  },
  {
   "cell_type": "code",
   "execution_count": null,
   "id": "bb02d1b2-3f1d-41fc-9813-496f5654efa6",
   "metadata": {},
   "outputs": [],
   "source": []
  }
 ],
 "metadata": {
  "kernelspec": {
   "display_name": "Python 3 (ipykernel)",
   "language": "python",
   "name": "python3"
  },
  "language_info": {
   "codemirror_mode": {
    "name": "ipython",
    "version": 3
   },
   "file_extension": ".py",
   "mimetype": "text/x-python",
   "name": "python",
   "nbconvert_exporter": "python",
   "pygments_lexer": "ipython3",
   "version": "3.12.4"
  }
 },
 "nbformat": 4,
 "nbformat_minor": 5
}
